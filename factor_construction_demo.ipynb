{
 "cells": [
  {
   "cell_type": "markdown",
   "metadata": {},
   "source": [
    " # Factor construction demo"
   ]
  },
  {
   "cell_type": "code",
   "execution_count": 1,
   "metadata": {},
   "outputs": [],
   "source": [
    "# 시작하기: 퍼사드 임포트\n",
    "from qdl.facade import QDL\n",
    "import pandas as pd\n",
    "import numpy as np\n",
    "\n"
   ]
  },
  {
   "cell_type": "markdown",
   "metadata": {},
   "source": [
    " ## 과제 목표\n",
    "\n",
    "\n",
    "\n",
    " - 국가별로 (usa/kor) --> 할 것 없음\n",
    "\n",
    " - Size, Value, Profitability, Investment, Market, Momentum, Short-Term Reversal 팩터들을\n",
    "\n",
    " - ew/vw/vw_cap 각각으로 가중치 방법을 다르게 하여\n",
    "\n",
    " - 최대한 JKP 팩터 수익률과 비슷한 팩터(수익률)을 만드는 것\n",
    "\n",
    "\n",
    "\n",
    " ## 과제 방법\n",
    "\n",
    "\n",
    "\n",
    " - `qdl`을 통해 특성/팩터 데이터셋을 로드하여\n",
    "\n",
    " - data spec 의 섹션 2: Factor Portfolio Construction 방법론에 따라 구현\n",
    "\n",
    "     - 주의: Fama French의 double independent sort 방법 쓰지 않음\n",
    "\n"
   ]
  },
  {
   "cell_type": "markdown",
   "metadata": {},
   "source": [
    " ## 데이터 로드"
   ]
  },
  {
   "cell_type": "code",
   "execution_count": 2,
   "metadata": {},
   "outputs": [],
   "source": [
    "q = QDL()\n"
   ]
  },
  {
   "cell_type": "code",
   "execution_count": 3,
   "metadata": {},
   "outputs": [],
   "source": [
    "# 특성(Chars) 데이터셋 (와이드): 초과수익률 \n",
    "wide_ret_exc = q.load_char(\n",
    "    country=\"usa\",\n",
    "    vintage=\"2020-\",\n",
    "    char=\"ret_exc\",\n",
    "    date_col=\"date\",\n",
    ")\n",
    "\n"
   ]
  },
  {
   "cell_type": "code",
   "execution_count": 4,
   "metadata": {},
   "outputs": [
    {
     "name": "stdout",
     "output_type": "stream",
     "text": [
      "            10026.0      10028.0      10032.0      10044.0      10051.0      \\\n",
      "date                                                                          \n",
      "2020-01-06          NaN          NaN          NaN          NaN          NaN   \n",
      "2020-01-09          NaN          NaN          NaN          NaN          NaN   \n",
      "2020-01-17          NaN          NaN          NaN          NaN          NaN   \n",
      "2020-01-23          NaN          NaN          NaN          NaN          NaN   \n",
      "2020-01-24          NaN          NaN          NaN          NaN          NaN   \n",
      "2020-01-27          NaN          NaN          NaN          NaN          NaN   \n",
      "2020-01-28          NaN          NaN          NaN          NaN          NaN   \n",
      "2020-01-30          NaN          NaN          NaN          NaN          NaN   \n",
      "2020-01-31     -0.10118     0.606243    -0.076807    -0.099756     -0.11634   \n",
      "2020-02-07          NaN          NaN          NaN          NaN          NaN   \n",
      "\n",
      "            10066.0      10104.0      10107.0      10138.0      10145.0      \\\n",
      "date                                                                          \n",
      "2020-01-06          NaN          NaN          NaN          NaN          NaN   \n",
      "2020-01-09          NaN          NaN          NaN          NaN          NaN   \n",
      "2020-01-17          NaN          NaN          NaN          NaN          NaN   \n",
      "2020-01-23          NaN          NaN          NaN          NaN          NaN   \n",
      "2020-01-24          NaN          NaN          NaN          NaN          NaN   \n",
      "2020-01-27          NaN          NaN          NaN          NaN          NaN   \n",
      "2020-01-28          NaN          NaN          NaN          NaN          NaN   \n",
      "2020-01-30          NaN          NaN          NaN          NaN          NaN   \n",
      "2020-01-31          NaN    -0.006638     0.078291     0.094782     -0.02252   \n",
      "2020-02-07          NaN          NaN          NaN          NaN          NaN   \n",
      "\n",
      "            ...  134735401.0  134861501.0  134878401.0  134933701.0  \\\n",
      "date        ...                                                       \n",
      "2020-01-06  ...          NaN          NaN          NaN          NaN   \n",
      "2020-01-09  ...          NaN          NaN          NaN          NaN   \n",
      "2020-01-17  ...          NaN          NaN          NaN          NaN   \n",
      "2020-01-23  ...          NaN          NaN          NaN          NaN   \n",
      "2020-01-24  ...          NaN          NaN          NaN          NaN   \n",
      "2020-01-27  ...          NaN          NaN          NaN          NaN   \n",
      "2020-01-28  ...          NaN          NaN          NaN          NaN   \n",
      "2020-01-30  ...          NaN          NaN          NaN          NaN   \n",
      "2020-01-31  ...          NaN          NaN          NaN          NaN   \n",
      "2020-02-07  ...          NaN          NaN          NaN          NaN   \n",
      "\n",
      "            134970501.0  134985401.0  134997201.0  134999401.0  135226201.0  \\\n",
      "date                                                                          \n",
      "2020-01-06          NaN          NaN          NaN          NaN          NaN   \n",
      "2020-01-09          NaN          NaN          NaN          NaN          NaN   \n",
      "2020-01-17          NaN          NaN          NaN          NaN          NaN   \n",
      "2020-01-23          NaN          NaN          NaN          NaN          NaN   \n",
      "2020-01-24          NaN          NaN          NaN          NaN          NaN   \n",
      "2020-01-27          NaN          NaN          NaN          NaN          NaN   \n",
      "2020-01-28          NaN          NaN          NaN          NaN          NaN   \n",
      "2020-01-30          NaN          NaN          NaN          NaN          NaN   \n",
      "2020-01-31          NaN          NaN          NaN          NaN          NaN   \n",
      "2020-02-07          NaN          NaN          NaN          NaN          NaN   \n",
      "\n",
      "            135628901.0  \n",
      "date                     \n",
      "2020-01-06          NaN  \n",
      "2020-01-09          NaN  \n",
      "2020-01-17          NaN  \n",
      "2020-01-23          NaN  \n",
      "2020-01-24          NaN  \n",
      "2020-01-27          NaN  \n",
      "2020-01-28          NaN  \n",
      "2020-01-30          NaN  \n",
      "2020-01-31          NaN  \n",
      "2020-02-07          NaN  \n",
      "\n",
      "[10 rows x 12123 columns]\n"
     ]
    }
   ],
   "source": [
    "print(wide_ret_exc.head(10))\n"
   ]
  },
  {
   "cell_type": "markdown",
   "metadata": {},
   "source": [
    " ## 전처리"
   ]
  },
  {
   "cell_type": "markdown",
   "metadata": {},
   "source": [
    " ### `eom`\n",
    "\n"
   ]
  },
  {
   "cell_type": "markdown",
   "metadata": {},
   "source": [
    " Q: 날짜는 왜 이렇게 불규칙적인가요?\n",
    "\n",
    "\n",
    "\n",
    " A: 그냥 데이터가 그렇습니다.. 월말 기준이어야 하지만 그 때 데이터가 available하지 않은 경우들이 있는 듯 합니다. (추측: 분할/합병을 위한 일시적 거래 정지 등)\n",
    "\n",
    "\n",
    "\n",
    " ** data spec 시트의 date 컬럼 설명:\n",
    "\n",
    "\n",
    "\n",
    " > Date of the last return observation during the month."
   ]
  },
  {
   "cell_type": "code",
   "execution_count": 5,
   "metadata": {},
   "outputs": [],
   "source": [
    "long_chars = q.load_char_dataset( # 특성 데이터셋 원본 로드\n",
    "    country=\"usa\",\n",
    "    vintage=\"2020-\",\n",
    ")\n"
   ]
  },
  {
   "cell_type": "code",
   "execution_count": 6,
   "metadata": {},
   "outputs": [
    {
     "name": "stdout",
     "output_type": "stream",
     "text": [
      "131672601.0    0.052763\n",
      "Name: 2020-01-06 00:00:00, dtype: float64\n"
     ]
    }
   ],
   "source": [
    "d = '2020-01-06'\n",
    "a = wide_ret_exc.dropna(how='all', axis=0).copy()\n",
    "\n",
    "print(a.loc[d, :].dropna())\n"
   ]
  },
  {
   "cell_type": "code",
   "execution_count": 7,
   "metadata": {},
   "outputs": [
    {
     "data": {
      "text/plain": [
       "np.float64(131672601.0)"
      ]
     },
     "execution_count": 7,
     "metadata": {},
     "output_type": "execute_result"
    }
   ],
   "source": [
    "a_id = a.loc[d, :].dropna().index[0]\n",
    "a_id\n"
   ]
  },
  {
   "cell_type": "code",
   "execution_count": 8,
   "metadata": {},
   "outputs": [
    {
     "name": "stdout",
     "output_type": "stream",
     "text": [
      "                id       date   ret_exc    at_gr1\n",
      "7154   131672601.0 2025-02-14       NaN  0.074309\n",
      "12662  131672601.0 2020-01-06  0.052763  0.041159\n",
      "12907  131672601.0 2020-02-27 -0.361608  0.041159\n",
      "13165  131672601.0 2020-03-23 -0.549094  0.041159\n",
      "13931  131672601.0 2020-04-30  0.334612  0.128062\n",
      "13984  131672601.0 2020-05-28  0.011468  0.128062\n",
      "14219  131672601.0 2020-06-08  0.022681  0.128062\n",
      "14464  131672601.0 2020-07-16  0.019403  0.096382\n",
      "14802  131672601.0 2020-08-19  0.133801  0.096382\n",
      "15286  131672601.0 2020-09-30       NaN  0.096382\n",
      "15310  131672601.0 2020-10-26  0.093903  0.027523\n",
      "15513  131672601.0 2020-11-16  0.145308  0.027523\n",
      "15910  131672601.0 2020-12-31  0.269863  0.027523\n",
      "15927  131672601.0 2021-01-07  0.108440 -0.016911\n",
      "16285  131672601.0 2021-02-26 -0.202231 -0.016911\n",
      "16533  131672601.0 2021-03-31  0.283173 -0.016911\n",
      "16827  131672601.0 2021-04-30  0.065234 -0.052062\n",
      "16993  131672601.0 2021-05-28 -0.049949 -0.052062\n",
      "17034  131672601.0 2021-06-29 -0.074503 -0.052062\n",
      "17543  131672601.0 2021-07-30 -0.082074 -0.070844\n",
      "17733  131672601.0 2021-08-31 -0.060757 -0.070844\n",
      "17767  131672601.0 2021-09-29 -0.006432 -0.070844\n",
      "18031  131672601.0 2021-10-29 -0.017516 -0.017964\n",
      "18070  131672601.0 2021-11-29 -0.051518 -0.017964\n",
      "18271  131672601.0 2021-12-31  0.105461 -0.017964\n",
      "18371  131672601.0 2022-01-31  0.001774 -0.008607\n",
      "18384  131672601.0 2022-02-25  0.065308 -0.008607\n",
      "18538  131672601.0 2022-03-31  0.166900 -0.008607\n",
      "18612  131672601.0 2022-04-29 -0.034676 -0.021662\n",
      "18622  131672601.0 2022-05-27  0.270698 -0.021662\n",
      "18758  131672601.0 2022-06-30 -0.067660 -0.021662\n",
      "18768  131672601.0 2022-07-28  0.095078 -0.005965\n",
      "18882  131672601.0 2022-08-31 -0.173151 -0.005965\n",
      "18893  131672601.0 2022-09-23 -0.023038 -0.005965\n",
      "18952  131672601.0 2022-10-26  0.247673 -0.077085\n",
      "19055  131672601.0 2022-11-30  0.159891 -0.077085\n",
      "19130  131672601.0 2022-12-30 -0.134278 -0.077085\n",
      "19149  131672601.0 2023-01-30  0.047561 -0.084232\n",
      "19226  131672601.0 2023-02-28  0.070351 -0.084232\n",
      "19282  131672601.0 2023-03-31 -0.087119 -0.084232\n",
      "19321  131672601.0 2023-04-25  0.046625  0.074539\n",
      "19597  131672601.0 2023-05-31  0.155133  0.074539\n",
      "19622  131672601.0 2023-06-27  0.153848  0.074539\n",
      "19703  131672601.0 2023-07-31  0.127879  0.085431\n",
      "19757  131672601.0 2023-08-31  0.164554  0.085431\n",
      "19815  131672601.0 2023-09-29  0.048582  0.085431\n",
      "19848  131672601.0 2023-10-31  0.117822  0.017329\n",
      "19876  131672601.0 2023-11-30  0.112207  0.017329\n",
      "19931  131672601.0 2023-12-29 -0.007577  0.017329\n",
      "19959  131672601.0 2024-01-31 -0.188118  0.093073\n",
      "19988  131672601.0 2024-02-29 -0.027414  0.093073\n",
      "20028  131672601.0 2024-03-28  0.077255  0.093073\n",
      "24945  131672601.0 2025-01-31       NaN  0.074309\n"
     ]
    }
   ],
   "source": [
    "print(long_chars[long_chars['id'] == a_id][['id', 'date', 'ret_exc', 'at_gr1']])\n"
   ]
  },
  {
   "cell_type": "markdown",
   "metadata": {},
   "source": [
    "\n",
    "\n",
    " 기존에는 `date` 컬럼을 기본으로 사용\n",
    "\n",
    "\n",
    "\n",
    " `eom`을 default로 하여 `date_col=`을 고를 수 있도록 고쳤습니다."
   ]
  },
  {
   "cell_type": "code",
   "execution_count": 9,
   "metadata": {},
   "outputs": [],
   "source": [
    "# 특성(Chars) 데이터셋 (와이드): 초과수익률 \n",
    "wide_ret_exc = q.load_char(\n",
    "    country=\"usa\",\n",
    "    vintage=\"2020-\",\n",
    "    char=\"ret_exc\",\n",
    "    # date_col=\"date\",\n",
    ")\n",
    "\n"
   ]
  },
  {
   "cell_type": "code",
   "execution_count": 10,
   "metadata": {},
   "outputs": [
    {
     "name": "stdout",
     "output_type": "stream",
     "text": [
      "            10026.0      10028.0      10032.0      10044.0      10051.0      \\\n",
      "eom                                                                           \n",
      "2020-01-31    -0.101180     0.606243    -0.076807    -0.099756    -0.116340   \n",
      "2020-02-29    -0.031478     0.224598    -0.068278    -0.066112    -0.056877   \n",
      "2020-03-31    -0.245299    -0.053900    -0.178962    -0.374636    -0.325932   \n",
      "2020-04-30     0.049832     0.448410     0.149007    -0.052086     0.178431   \n",
      "2020-05-31     0.012536    -0.016497     0.024347    -0.057202    -0.000059   \n",
      "2020-06-30    -0.007302     0.699053     0.098612    -0.009435    -0.098150   \n",
      "2020-07-31    -0.031560    -0.306653     0.052767    -0.218920     0.054252   \n",
      "2020-08-31     0.104039    -0.082821     0.023881    -0.018151     0.131651   \n",
      "2020-09-30    -0.036744     0.105594    -0.071589    -0.177990    -0.199469   \n",
      "2020-10-31     0.039654    -0.058348    -0.015505    -0.000073     0.104225   \n",
      "\n",
      "            10066.0      10104.0      10107.0      10138.0      10145.0      \\\n",
      "eom                                                                           \n",
      "2020-01-31          NaN    -0.006638     0.078291     0.094782    -0.022520   \n",
      "2020-02-29          NaN    -0.058215    -0.046500    -0.117437    -0.059804   \n",
      "2020-03-31          NaN    -0.024115    -0.027809    -0.166169    -0.176270   \n",
      "2020-04-30          NaN     0.100969     0.136323     0.184124     0.060614   \n",
      "2020-05-31          NaN     0.015044     0.025330     0.045517     0.034120   \n",
      "2020-06-30          NaN     0.027786     0.110448     0.028839    -0.008750   \n",
      "2020-07-31          NaN     0.007503     0.007275     0.118123     0.032963   \n",
      "2020-08-31          NaN     0.031842     0.102501     0.007959     0.114268   \n",
      "2020-09-30          NaN     0.043265    -0.067473    -0.072556    -0.005754   \n",
      "2020-10-31          NaN    -0.056187    -0.037443    -0.012240     0.001992   \n",
      "\n",
      "            ...  134735401.0  134861501.0  134878401.0  134933701.0  \\\n",
      "eom         ...                                                       \n",
      "2020-01-31  ...          NaN          NaN          NaN          NaN   \n",
      "2020-02-29  ...          NaN          NaN          NaN          NaN   \n",
      "2020-03-31  ...          NaN          NaN          NaN          NaN   \n",
      "2020-04-30  ...          NaN          NaN          NaN          NaN   \n",
      "2020-05-31  ...          NaN          NaN          NaN          NaN   \n",
      "2020-06-30  ...          NaN          NaN          NaN          NaN   \n",
      "2020-07-31  ...          NaN          NaN          NaN          NaN   \n",
      "2020-08-31  ...          NaN          NaN          NaN          NaN   \n",
      "2020-09-30  ...          NaN          NaN          NaN          NaN   \n",
      "2020-10-31  ...          NaN          NaN          NaN          NaN   \n",
      "\n",
      "            134970501.0  134985401.0  134997201.0  134999401.0  135226201.0  \\\n",
      "eom                                                                           \n",
      "2020-01-31          NaN          NaN          NaN          NaN          NaN   \n",
      "2020-02-29          NaN          NaN          NaN          NaN          NaN   \n",
      "2020-03-31          NaN          NaN          NaN          NaN          NaN   \n",
      "2020-04-30          NaN          NaN          NaN          NaN          NaN   \n",
      "2020-05-31          NaN          NaN          NaN          NaN          NaN   \n",
      "2020-06-30          NaN          NaN          NaN          NaN          NaN   \n",
      "2020-07-31          NaN          NaN          NaN          NaN          NaN   \n",
      "2020-08-31          NaN          NaN          NaN          NaN          NaN   \n",
      "2020-09-30          NaN          NaN          NaN          NaN          NaN   \n",
      "2020-10-31          NaN          NaN          NaN          NaN          NaN   \n",
      "\n",
      "            135628901.0  \n",
      "eom                      \n",
      "2020-01-31          NaN  \n",
      "2020-02-29          NaN  \n",
      "2020-03-31          NaN  \n",
      "2020-04-30          NaN  \n",
      "2020-05-31          NaN  \n",
      "2020-06-30          NaN  \n",
      "2020-07-31          NaN  \n",
      "2020-08-31          NaN  \n",
      "2020-09-30          NaN  \n",
      "2020-10-31          NaN  \n",
      "\n",
      "[10 rows x 12123 columns]\n"
     ]
    }
   ],
   "source": [
    "print(wide_ret_exc.head(10))\n"
   ]
  },
  {
   "cell_type": "markdown",
   "metadata": {},
   "source": [
    " ### `size_grp` 불러오기"
   ]
  },
  {
   "cell_type": "code",
   "execution_count": 11,
   "metadata": {},
   "outputs": [],
   "source": [
    "# 특성(Chars) 데이터셋 (와이드): size_grp\n",
    "wide_size_grp = q.load_char(\n",
    "    country=\"usa\",\n",
    "    vintage=\"2020-\",\n",
    "    char=\"size_grp\",\n",
    ")\n",
    "\n"
   ]
  },
  {
   "cell_type": "code",
   "execution_count": 12,
   "metadata": {},
   "outputs": [
    {
     "name": "stdout",
     "output_type": "stream",
     "text": [
      "           10026.0     10028.0     10032.0     10044.0     10051.0      \\\n",
      "eom                                                                      \n",
      "2020-01-31       large       micro       small       micro       small   \n",
      "2020-02-29       large       micro       small       micro       small   \n",
      "2020-03-31       large       micro       small       micro       small   \n",
      "2020-04-30       large       micro       small       micro       small   \n",
      "2020-05-31       large       micro       small       micro       small   \n",
      "2020-06-30       large       micro       small        nano       small   \n",
      "2020-07-31       small       micro       small        nano       small   \n",
      "2020-08-31       large       micro       small        nano       small   \n",
      "2020-09-30       large       micro       small        nano       small   \n",
      "2020-10-31       large       micro       small        nano       small   \n",
      "\n",
      "           10066.0     10104.0     10107.0     10138.0     10145.0      ...  \\\n",
      "eom                                                                     ...   \n",
      "2020-01-31         NaN        mega        mega        mega        mega  ...   \n",
      "2020-02-29         NaN        mega        mega        mega        mega  ...   \n",
      "2020-03-31         NaN        mega        mega        mega        mega  ...   \n",
      "2020-04-30         NaN        mega        mega        mega        mega  ...   \n",
      "2020-05-31         NaN        mega        mega        mega        mega  ...   \n",
      "2020-06-30         NaN        mega        mega        mega        mega  ...   \n",
      "2020-07-31         NaN        mega        mega        mega        mega  ...   \n",
      "2020-08-31         NaN        mega        mega        mega        mega  ...   \n",
      "2020-09-30         NaN        mega        mega        mega        mega  ...   \n",
      "2020-10-31         NaN        mega        mega        mega        mega  ...   \n",
      "\n",
      "           134735401.0 134861501.0 134878401.0 134933701.0 134970501.0  \\\n",
      "eom                                                                      \n",
      "2020-01-31         NaN         NaN         NaN         NaN         NaN   \n",
      "2020-02-29         NaN         NaN         NaN         NaN         NaN   \n",
      "2020-03-31         NaN         NaN         NaN         NaN         NaN   \n",
      "2020-04-30         NaN         NaN         NaN         NaN         NaN   \n",
      "2020-05-31         NaN         NaN         NaN         NaN         NaN   \n",
      "2020-06-30         NaN         NaN         NaN         NaN         NaN   \n",
      "2020-07-31         NaN         NaN         NaN         NaN         NaN   \n",
      "2020-08-31         NaN         NaN         NaN         NaN         NaN   \n",
      "2020-09-30         NaN         NaN         NaN         NaN         NaN   \n",
      "2020-10-31         NaN         NaN         NaN         NaN         NaN   \n",
      "\n",
      "           134985401.0 134997201.0 134999401.0 135226201.0 135628901.0  \n",
      "eom                                                                     \n",
      "2020-01-31         NaN         NaN         NaN         NaN         NaN  \n",
      "2020-02-29         NaN         NaN         NaN         NaN         NaN  \n",
      "2020-03-31         NaN         NaN         NaN         NaN         NaN  \n",
      "2020-04-30         NaN         NaN         NaN         NaN         NaN  \n",
      "2020-05-31         NaN         NaN         NaN         NaN         NaN  \n",
      "2020-06-30         NaN         NaN         NaN         NaN         NaN  \n",
      "2020-07-31         NaN         NaN         NaN         NaN         NaN  \n",
      "2020-08-31         NaN         NaN         NaN         NaN         NaN  \n",
      "2020-09-30         NaN         NaN         NaN         NaN         NaN  \n",
      "2020-10-31         NaN         NaN         NaN         NaN         NaN  \n",
      "\n",
      "[10 rows x 12123 columns]\n"
     ]
    }
   ],
   "source": [
    "print(wide_size_grp.head(10))\n"
   ]
  },
  {
   "cell_type": "code",
   "execution_count": 13,
   "metadata": {},
   "outputs": [
    {
     "data": {
      "text/plain": [
       "array(['micro', 'nano', 'small', 'large', None, 'mega'], dtype=object)"
      ]
     },
     "execution_count": 13,
     "metadata": {},
     "output_type": "execute_result"
    }
   ],
   "source": [
    "long_chars['size_grp'].unique()\n"
   ]
  },
  {
   "cell_type": "markdown",
   "metadata": {},
   "source": [
    " > In each country and month, we sort stocks into characteristic terciles (top/middle/bottom third) with breakpoints based on non-micro stocks in that country. Specifically, we start with all non-micro stocks in a country (i.e., larger than NYSE 20th percentile) and sort them into three groups of equal numbers of stocks based on the characteristic, say book-to-market. Then we distribute the micro-cap stocks into the three groups based on the same characteristic breakpoints. This process ensures that the non-micro stocks are distributed equally among across portfolios, creating more tradable portfolios."
   ]
  },
  {
   "cell_type": "markdown",
   "metadata": {},
   "source": [
    " ## 팩터 포트폴리오 만들기\n",
    "\n",
    "\n",
    "\n",
    " - investment (CMA, conservative minus aggressive)\n",
    "\n",
    "   - `at_gr1`"
   ]
  },
  {
   "cell_type": "code",
   "execution_count": 14,
   "metadata": {},
   "outputs": [],
   "source": [
    "# 특성(Chars) 데이터셋 (와이드): 단일 특성 예시 'at_gr1' (Investment 팩터용)\n",
    "wide_atgr1 = q.load_char(\n",
    "    country=\"usa\",\n",
    "    vintage=\"2020-\",\n",
    "    char=\"at_gr1\",\n",
    ")\n",
    "\n"
   ]
  },
  {
   "cell_type": "code",
   "execution_count": 15,
   "metadata": {},
   "outputs": [
    {
     "name": "stdout",
     "output_type": "stream",
     "text": [
      "            10026.0      10028.0      10032.0      10044.0      10051.0      \\\n",
      "eom                                                                           \n",
      "2020-01-31     0.573986     0.949165     0.405251     0.503103     0.713842   \n",
      "2020-02-29     0.572967     0.949761     0.404067     0.501675     0.714354   \n",
      "2020-03-31     0.571943     0.950036     0.404756     0.483546     0.714148   \n",
      "2020-04-30     0.683934     0.942946     0.493674     0.453569     0.716400   \n",
      "2020-05-31     0.681992     0.943487     0.491858     0.451149     0.713602   \n",
      "\n",
      "            10066.0      10104.0      10107.0      10138.0      10145.0      \\\n",
      "eom                                                                           \n",
      "2020-01-31          NaN     0.096659     0.549642     0.590692     0.236754   \n",
      "2020-02-29          NaN     0.095215     0.549282     0.589474     0.237081   \n",
      "2020-03-31          NaN     0.096565     0.547922     0.588518     0.237569   \n",
      "2020-04-30          NaN     0.090236     0.544283     0.734782     0.321556   \n",
      "2020-05-31          NaN     0.090517     0.541667     0.732759     0.317768   \n",
      "\n",
      "            ...  134735401.0  134861501.0  134878401.0  134933701.0  \\\n",
      "eom         ...                                                       \n",
      "2020-01-31  ...          NaN          NaN          NaN          NaN   \n",
      "2020-02-29  ...          NaN          NaN          NaN          NaN   \n",
      "2020-03-31  ...          NaN          NaN          NaN          NaN   \n",
      "2020-04-30  ...          NaN          NaN          NaN          NaN   \n",
      "2020-05-31  ...          NaN          NaN          NaN          NaN   \n",
      "\n",
      "            134970501.0  134985401.0  134997201.0  134999401.0  135226201.0  \\\n",
      "eom                                                                           \n",
      "2020-01-31          NaN          NaN          NaN          NaN          NaN   \n",
      "2020-02-29          NaN          NaN          NaN          NaN          NaN   \n",
      "2020-03-31          NaN          NaN          NaN          NaN          NaN   \n",
      "2020-04-30          NaN          NaN          NaN          NaN          NaN   \n",
      "2020-05-31          NaN          NaN          NaN          NaN          NaN   \n",
      "\n",
      "            135628901.0  \n",
      "eom                      \n",
      "2020-01-31          NaN  \n",
      "2020-02-29          NaN  \n",
      "2020-03-31          NaN  \n",
      "2020-04-30          NaN  \n",
      "2020-05-31          NaN  \n",
      "\n",
      "[5 rows x 12123 columns]\n"
     ]
    }
   ],
   "source": [
    "wide_atgr1_xs_rank = wide_atgr1.rank(axis=1, method='min', pct=True)\n",
    "print(wide_atgr1_xs_rank.head(5))\n"
   ]
  },
  {
   "cell_type": "code",
   "execution_count": 16,
   "metadata": {},
   "outputs": [],
   "source": [
    "wide_atgr1_xs_high_mask = wide_atgr1_xs_rank >= 0.666\n",
    "wide_atgr1_xs_low_mask = wide_atgr1_xs_rank <= 0.333\n"
   ]
  },
  {
   "cell_type": "code",
   "execution_count": 17,
   "metadata": {},
   "outputs": [
    {
     "name": "stdout",
     "output_type": "stream",
     "text": [
      "            10026.0      10028.0      10032.0      10044.0      10051.0      \\\n",
      "eom                                                                           \n",
      "2020-01-31        False         True        False        False         True   \n",
      "2020-02-29        False         True        False        False         True   \n",
      "2020-03-31        False         True        False        False         True   \n",
      "2020-04-30         True         True        False        False         True   \n",
      "2020-05-31         True         True        False        False         True   \n",
      "\n",
      "            10066.0      10104.0      10107.0      10138.0      10145.0      \\\n",
      "eom                                                                           \n",
      "2020-01-31        False        False        False        False        False   \n",
      "2020-02-29        False        False        False        False        False   \n",
      "2020-03-31        False        False        False        False        False   \n",
      "2020-04-30        False        False        False         True        False   \n",
      "2020-05-31        False        False        False         True        False   \n",
      "\n",
      "            ...  134735401.0  134861501.0  134878401.0  134933701.0  \\\n",
      "eom         ...                                                       \n",
      "2020-01-31  ...        False        False        False        False   \n",
      "2020-02-29  ...        False        False        False        False   \n",
      "2020-03-31  ...        False        False        False        False   \n",
      "2020-04-30  ...        False        False        False        False   \n",
      "2020-05-31  ...        False        False        False        False   \n",
      "\n",
      "            134970501.0  134985401.0  134997201.0  134999401.0  135226201.0  \\\n",
      "eom                                                                           \n",
      "2020-01-31        False        False        False        False        False   \n",
      "2020-02-29        False        False        False        False        False   \n",
      "2020-03-31        False        False        False        False        False   \n",
      "2020-04-30        False        False        False        False        False   \n",
      "2020-05-31        False        False        False        False        False   \n",
      "\n",
      "            135628901.0  \n",
      "eom                      \n",
      "2020-01-31        False  \n",
      "2020-02-29        False  \n",
      "2020-03-31        False  \n",
      "2020-04-30        False  \n",
      "2020-05-31        False  \n",
      "\n",
      "[5 rows x 12123 columns]\n"
     ]
    }
   ],
   "source": [
    "print(wide_atgr1_xs_high_mask.head(5))\n"
   ]
  },
  {
   "cell_type": "code",
   "execution_count": 18,
   "metadata": {},
   "outputs": [],
   "source": [
    "# shift(1) 하는 이유: forward looking 하지 않기 위해. \n",
    "short_port_ew = -1 * wide_ret_exc[wide_atgr1_xs_high_mask.shift(1)] # aggressive\n",
    "long_port_ew = wide_ret_exc[wide_atgr1_xs_low_mask.shift(1)] # conservative\n",
    "\n"
   ]
  },
  {
   "cell_type": "code",
   "execution_count": 19,
   "metadata": {},
   "outputs": [],
   "source": [
    "long_port_returns = long_port_ew.mean(axis=1)\n",
    "short_port_returns = short_port_ew.mean(axis=1)\n"
   ]
  },
  {
   "cell_type": "code",
   "execution_count": 20,
   "metadata": {},
   "outputs": [],
   "source": [
    "investment_factor_returns = long_port_returns + short_port_returns\n"
   ]
  },
  {
   "cell_type": "code",
   "execution_count": 21,
   "metadata": {},
   "outputs": [
    {
     "data": {
      "text/plain": [
       "<Axes: xlabel='eom'>"
      ]
     },
     "execution_count": 21,
     "metadata": {},
     "output_type": "execute_result"
    },
    {
     "data": {
      "image/png": "[encoded data removed]",
      "text/plain": [
       "<Figure size 640x480 with 1 Axes>"
      ]
     },
     "metadata": {},
     "output_type": "display_data"
    }
   ],
   "source": [
    "investment_factor_returns.cumsum().plot()\n"
   ]
  },
  {
   "cell_type": "markdown",
   "metadata": {},
   "source": [
    " ## 결과 비교"
   ]
  },
  {
   "cell_type": "markdown",
   "metadata": {},
   "source": [
    " ### 팩터 불러오기"
   ]
  },
  {
   "cell_type": "code",
   "execution_count": 22,
   "metadata": {},
   "outputs": [
    {
     "data": {
      "text/plain": [
       "<Axes: xlabel='date'>"
      ]
     },
     "execution_count": 22,
     "metadata": {},
     "output_type": "execute_result"
    },
    {
     "data": {
      "image/png": "[encoded data removed]",
      "text/plain": [
       "<Figure size 640x480 with 1 Axes>"
      ]
     },
     "metadata": {},
     "output_type": "display_data"
    }
   ],
   "source": [
    "investment_factor_answer =q.load_factors(\n",
    "    country=\"usa\",\n",
    "    dataset='factor',\n",
    "    weighting='ew',\n",
    "    factors=[\"at_gr1\"],\n",
    ")\n",
    "\n",
    "investment_factor_answer.loc['2020-01-06':, :].cumsum().plot()\n"
   ]
  },
  {
   "cell_type": "code",
   "execution_count": 23,
   "metadata": {},
   "outputs": [],
   "source": [
    "my_factor = pd.DataFrame(investment_factor_returns)\n",
    "my_factor.columns = ['at_gr1']\n"
   ]
  },
  {
   "cell_type": "code",
   "execution_count": 24,
   "metadata": {},
   "outputs": [
    {
     "data": {
      "image/png": "[encoded data removed]",
      "text/plain": [
       "<Figure size 500x320 with 1 Axes>"
      ]
     },
     "metadata": {},
     "output_type": "display_data"
    }
   ],
   "source": [
    "report = q.validate_factor(\n",
    "    user=my_factor,\n",
    "    weighting=\"ew\",\n",
    "    return_plot=True,\n",
    "    plot_title=\"Investment Factor: user vs reference\",\n",
    ")\n",
    "\n"
   ]
  },
  {
   "cell_type": "code",
   "execution_count": 25,
   "metadata": {},
   "outputs": [
    {
     "name": "stdout",
     "output_type": "stream",
     "text": [
      "\n",
      "검증 리포트:\n",
      "관측치수: 59 시작일: 2020-02-29 00:00:00 종료일: 2024-12-31 00:00:00\n"
     ]
    }
   ],
   "source": [
    "print(\"\\n검증 리포트:\")\n",
    "print(\"관측치수:\", report.n_obs, \"시작일:\", report.date_start, \"종료일:\", report.date_end)\n"
   ]
  },
  {
   "cell_type": "code",
   "execution_count": 26,
   "metadata": {},
   "outputs": [
    {
     "name": "stdout",
     "output_type": "stream",
     "text": [
      "mse: 0.736 rmse: 0.858 mae: 0.654 corr: 0.979\n"
     ]
    }
   ],
   "source": [
    "def _fmt(x):\n",
    "    return f\"{x:.3f}\" if x is not None else \"nan\"\n",
    "\n",
    "print(\n",
    "    \"mse:\", _fmt(report.mse),\n",
    "    \"rmse:\", _fmt(report.rmse),\n",
    "    \"mae:\", _fmt(report.mae),\n",
    "    \"corr:\", _fmt(report.corr),\n",
    ")\n",
    "\n"
   ]
  },
  {
   "cell_type": "code",
   "execution_count": null,
   "metadata": {},
   "outputs": [],
   "source": [
    "\n",
    "\n",
    "\n"
   ]
  }
 ],
 "metadata": {
  "kernelspec": {
   "display_name": "sandbox312",
   "language": "python",
   "name": "python3"
  },
  "language_info": {
   "codemirror_mode": {
    "name": "ipython",
    "version": 3
   },
   "file_extension": ".py",
   "mimetype": "text/x-python",
   "name": "python",
   "nbconvert_exporter": "python",
   "pygments_lexer": "ipython3",
   "version": "3.12.11"
  }
 },
 "nbformat": 4,
 "nbformat_minor": 2
}
